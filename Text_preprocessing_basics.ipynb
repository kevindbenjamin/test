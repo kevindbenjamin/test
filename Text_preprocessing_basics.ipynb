{
 "cells": [
  {
   "cell_type": "markdown",
   "metadata": {},
   "source": [
    "### Preprocessing fundamentals "
   ]
  },
  {
   "cell_type": "markdown",
   "metadata": {},
   "source": [
    "### Step1 : Conversion of input string to lowercase"
   ]
  },
  {
   "cell_type": "code",
   "execution_count": 10,
   "metadata": {},
   "outputs": [
    {
     "name": "stdout",
     "output_type": "stream",
     "text": [
      "Input String in Lowercase: \n",
      "================================\n",
      "hello 102 ? students90 ., this is 50 < your second > practical = _ session 2001 () on $  786 ' text mining\n"
     ]
    }
   ],
   "source": [
    "input_string = \"Hello 102 ? Students90 ., This is 50 < YOUR SeconD > PRACTICAL = _ SessION 2001 () on $  786 ' TEXT MinINg\"\n",
    "result1 = input_string.lower()\n",
    "print(\"Input String in Lowercase: \")\n",
    "print(\"================================\")\n",
    "print(result1)"
   ]
  },
  {
   "cell_type": "markdown",
   "metadata": {},
   "source": [
    "### Step2: Removal of punctuations"
   ]
  },
  {
   "cell_type": "code",
   "execution_count": 11,
   "metadata": {},
   "outputs": [
    {
     "name": "stdout",
     "output_type": "stream",
     "text": [
      "hello 102  students90  this is 50  your second  practical   session 2001  on   786  text mining\n"
     ]
    }
   ],
   "source": [
    "import string\n",
    "result2 = result1.translate(str.maketrans('','', string.punctuation))\n",
    "print(result2)"
   ]
  },
  {
   "cell_type": "code",
   "execution_count": 12,
   "metadata": {},
   "outputs": [
    {
     "name": "stdout",
     "output_type": "stream",
     "text": [
      "================================\n",
      "hello 102  students90  this is 50  your second  practical   session 2001  on   786  text mining\n"
     ]
    }
   ],
   "source": [
    "# using loops\n",
    "replace = \"\"\n",
    "punctuation = string.punctuation\n",
    "for char in result1:\n",
    "    if char not in punctuation:\n",
    "        replace = replace + char\n",
    "print(\"================================\")\n",
    "print(replace)"
   ]
  },
  {
   "cell_type": "markdown",
   "metadata": {},
   "source": [
    "### Step3: Removing spaces"
   ]
  },
  {
   "cell_type": "code",
   "execution_count": 4,
   "metadata": {},
   "outputs": [
    {
     "name": "stdout",
     "output_type": "stream",
     "text": [
      "================================\n",
      "hello 102  students90  this is 50  your first  practical   session 2001  on   786  text mining\n",
      "                 SJCC      \n",
      "SJCC\n"
     ]
    }
   ],
   "source": [
    "result3 = result2.strip()\n",
    "print(\"================================\")\n",
    "print(result3)\n",
    "\n",
    "demo = \"                 SJCC      \"\n",
    "demo1 = demo.strip()\n",
    "print(demo)\n",
    "print(demo1)"
   ]
  },
  {
   "cell_type": "markdown",
   "metadata": {},
   "source": [
    "### Step4: Removing Numbers"
   ]
  },
  {
   "cell_type": "code",
   "execution_count": 5,
   "metadata": {},
   "outputs": [
    {
     "name": "stdout",
     "output_type": "stream",
     "text": [
      "================================\n",
      "hello   students  this is   your first  practical   session   on     text mining\n"
     ]
    }
   ],
   "source": [
    "import re\n",
    "result4 = re.sub(r'\\d+', '', result3)\n",
    "print(\"================================\")\n",
    "print(result4)"
   ]
  },
  {
   "cell_type": "markdown",
   "metadata": {},
   "source": [
    "### Step5: Removing Stopwords"
   ]
  },
  {
   "cell_type": "code",
   "execution_count": 6,
   "metadata": {},
   "outputs": [
    {
     "name": "stdout",
     "output_type": "stream",
     "text": [
      "================================\n",
      "{'over', 'himself', 'those', 'very', \"aren't\", 'why', 'this', 'before', 'were', 'doing', 'ourselves', 'to', 'themselves', 'should', 'no', 'can', \"doesn't\", 'needn', 'by', 'aren', 'what', 'don', 'against', 'and', 'doesn', \"haven't\", 'i', 'if', 'not', 'few', 'its', 'couldn', 'his', 'y', 'the', \"needn't\", 'herself', 'm', 'you', 'when', 'from', 'all', 's', \"hadn't\", \"you'd\", 'under', 'them', 'but', 'our', 'mustn', 'about', 'their', \"couldn't\", \"it's\", \"mightn't\", 'wouldn', 'than', 'we', \"you'll\", 'have', 'hasn', 'ma', \"weren't\", 'for', 'in', 'out', 'o', 'isn', 'your', 't', 'then', 'too', \"that'll\", 'while', 'll', \"didn't\", 'itself', 'some', 'or', 'that', 'a', 'd', 'off', 'of', 'myself', 'there', 'any', 'further', 'both', 'until', 've', \"shouldn't\", \"wouldn't\", 'ours', 'she', 'such', 'theirs', 'with', 'up', 'again', 'yourself', 'during', 'own', 'having', 'are', 'same', 'who', \"you've\", \"isn't\", \"won't\", 'yours', 'more', 'as', 'hers', \"should've\", 'they', 'didn', 'yourselves', 'haven', 'each', 'once', 're', 'has', 'after', 'won', 'so', 'him', 'wasn', 'where', 'at', \"mustn't\", 'shan', 'which', 'most', 'did', 'these', 'will', 'do', 'my', 'nor', 'had', \"shan't\", 'he', 'just', 'through', 'only', 'me', 'does', 'down', 'because', 'was', \"she's\", 'hadn', 'other', \"wasn't\", 'whom', 'how', 'it', 'below', \"hasn't\", 'an', 'above', 'be', 'into', 'between', 'been', 'on', 'now', 'her', 'being', 'weren', 'ain', 'here', 'am', 'mightn', 'is', \"don't\", \"you're\", 'shouldn'}\n",
      "================================\n",
      "179\n",
      "================================\n"
     ]
    }
   ],
   "source": [
    "#import nltk\n",
    "#nltk.download('stopwords')\n",
    "from nltk.corpus import stopwords\n",
    "sw = set(stopwords.words('english'))\n",
    "print(\"================================\")\n",
    "print(sw)\n",
    "print(\"================================\")\n",
    "print(len(sw))\n",
    "print(\"================================\")"
   ]
  },
  {
   "cell_type": "code",
   "execution_count": 7,
   "metadata": {},
   "outputs": [
    {
     "name": "stdout",
     "output_type": "stream",
     "text": [
      "Input Text\n",
      "================================\n",
      "hello   students  this is   your first  practical   session   on     text mining\n",
      "================================\n",
      "Output Tokens\n",
      "================================\n",
      "['hello', 'students', 'this', 'is', 'your', 'first', 'practical', 'session', 'on', 'text', 'mining']\n"
     ]
    }
   ],
   "source": [
    "from nltk.tokenize import word_tokenize\n",
    "print(\"Input Text\")\n",
    "print(\"================================\")\n",
    "print(result4)\n",
    "print(\"================================\")\n",
    "print(\"Output Tokens\")\n",
    "print(\"================================\")\n",
    "result4_tokens = word_tokenize(result4)\n",
    "print(result4_tokens)"
   ]
  },
  {
   "cell_type": "code",
   "execution_count": 8,
   "metadata": {},
   "outputs": [
    {
     "name": "stdout",
     "output_type": "stream",
     "text": [
      "['hello', 'students', 'first', 'practical', 'session', 'text', 'mining']\n"
     ]
    }
   ],
   "source": [
    "result5 = []\n",
    "for w in result4_tokens:\n",
    "    if w not in sw:\n",
    "        result5.append(w)\n",
    "print(result5)"
   ]
  }
 ],
 "metadata": {
  "kernelspec": {
   "display_name": "Python 3",
   "language": "python",
   "name": "python3"
  },
  "language_info": {
   "codemirror_mode": {
    "name": "ipython",
    "version": 3
   },
   "file_extension": ".py",
   "mimetype": "text/x-python",
   "name": "python",
   "nbconvert_exporter": "python",
   "pygments_lexer": "ipython3",
   "version": "3.7.3"
  }
 },
 "nbformat": 4,
 "nbformat_minor": 2
}
